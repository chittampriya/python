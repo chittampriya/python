{
 "cells": [
  {
   "cell_type": "markdown",
   "id": "9400de12-4459-406b-93b8-b90ef02be1dc",
   "metadata": {},
   "source": [
    "While Loop"
   ]
  },
  {
   "cell_type": "code",
   "execution_count": 3,
   "id": "3ae13e2f-b20e-4cda-b4d8-7c993685f5b5",
   "metadata": {},
   "outputs": [
    {
     "name": "stdout",
     "output_type": "stream",
     "text": [
      "1\n",
      "3\n",
      "5\n",
      "7\n",
      "9\n",
      "11\n"
     ]
    }
   ],
   "source": [
    "num=1\n",
    "while num<=12:\n",
    "    print(num)\n",
    "    num+=2"
   ]
  },
  {
   "cell_type": "markdown",
   "id": "e0fd3d3c-fdab-4e3f-8126-354af922ba9d",
   "metadata": {},
   "source": [
    "For Loop"
   ]
  },
  {
   "cell_type": "code",
   "execution_count": 4,
   "id": "301552bf-9d03-482b-9148-3e0757a94801",
   "metadata": {},
   "outputs": [
    {
     "name": "stdout",
     "output_type": "stream",
     "text": [
      "p\n",
      "r\n",
      "i\n",
      "y\n",
      "a\n",
      "n\n",
      "k\n",
      "a\n"
     ]
    }
   ],
   "source": [
    "name='priyanka'\n",
    "for z in name:\n",
    "    print(z)"
   ]
  },
  {
   "cell_type": "code",
   "execution_count": null,
   "id": "37807dfb-b91c-4e76-a178-d147bbdc5074",
   "metadata": {},
   "outputs": [],
   "source": []
  }
 ],
 "metadata": {
  "kernelspec": {
   "display_name": "Python 3 (ipykernel)",
   "language": "python",
   "name": "python3"
  },
  "language_info": {
   "codemirror_mode": {
    "name": "ipython",
    "version": 3
   },
   "file_extension": ".py",
   "mimetype": "text/x-python",
   "name": "python",
   "nbconvert_exporter": "python",
   "pygments_lexer": "ipython3",
   "version": "3.12.4"
  }
 },
 "nbformat": 4,
 "nbformat_minor": 5
}
