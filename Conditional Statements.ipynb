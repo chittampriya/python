{
 "cells": [
  {
   "cell_type": "markdown",
   "id": "88ee5c88-fd7b-43c5-a0e4-b20622b62437",
   "metadata": {},
   "source": [
    "If Statement"
   ]
  },
  {
   "cell_type": "code",
   "execution_count": 4,
   "id": "db2e3521-7d63-4f39-8918-e2b36cc337ae",
   "metadata": {},
   "outputs": [
    {
     "name": "stdout",
     "output_type": "stream",
     "text": [
      "same\n"
     ]
    }
   ],
   "source": [
    "name= 'priyanka'\n",
    "if name=='priyanka':\n",
    "    print('same')\n"
   ]
  },
  {
   "cell_type": "markdown",
   "id": "3e9c5abe-e79f-4cc1-a4a1-7ac675af9f9c",
   "metadata": {},
   "source": [
    "Else Statement"
   ]
  },
  {
   "cell_type": "code",
   "execution_count": 6,
   "id": "f411c46e-bd3c-4179-9b29-f8a1a21fbf19",
   "metadata": {},
   "outputs": [
    {
     "name": "stdout",
     "output_type": "stream",
     "text": [
      "same\n"
     ]
    }
   ],
   "source": [
    "name= 'priyanka'\n",
    "if name=='priyank':\n",
    "    print('not same')\n",
    "else:\n",
    "    print('same')"
   ]
  },
  {
   "cell_type": "markdown",
   "id": "99d363b3-e903-4b96-a6c2-e073d4fa38a0",
   "metadata": {},
   "source": [
    "Elif Statement"
   ]
  },
  {
   "cell_type": "code",
   "execution_count": 10,
   "id": "875f334b-98b2-4514-aa62-dddfc453df31",
   "metadata": {},
   "outputs": [
    {
     "name": "stdout",
     "output_type": "stream",
     "text": [
      "same\n"
     ]
    }
   ],
   "source": [
    "name='priyanka'\n",
    "if name=='priya':\n",
    "    print('not same')\n",
    "elif name=='priyank':\n",
    "    print('no same')\n",
    "else:\n",
    "    print('same')"
   ]
  },
  {
   "cell_type": "code",
   "execution_count": null,
   "id": "8efe1003-7bba-4bc7-9e32-36b01a9e4d0e",
   "metadata": {},
   "outputs": [],
   "source": []
  }
 ],
 "metadata": {
  "kernelspec": {
   "display_name": "Python 3 (ipykernel)",
   "language": "python",
   "name": "python3"
  },
  "language_info": {
   "codemirror_mode": {
    "name": "ipython",
    "version": 3
   },
   "file_extension": ".py",
   "mimetype": "text/x-python",
   "name": "python",
   "nbconvert_exporter": "python",
   "pygments_lexer": "ipython3",
   "version": "3.12.4"
  }
 },
 "nbformat": 4,
 "nbformat_minor": 5
}
