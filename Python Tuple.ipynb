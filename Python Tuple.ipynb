{
 "cells": [
  {
   "cell_type": "code",
   "execution_count": 2,
   "id": "ba9383e1-60e8-4ad8-9fe2-dda592198470",
   "metadata": {},
   "outputs": [
    {
     "name": "stdout",
     "output_type": "stream",
     "text": [
      "<class 'tuple'>\n",
      "('blue', 'black', 'red', 'yellow')\n"
     ]
    }
   ],
   "source": [
    "#creating a tuple\n",
    "empty_tuple=()\n",
    "\n",
    "colours=(\"blue\",\"black\",\"red\",\"yellow\")\n",
    "print(type(colours))\n",
    "print(colours)"
   ]
  },
  {
   "cell_type": "markdown",
   "id": "48802513-e100-4440-99be-0f8d1bcf1fa0",
   "metadata": {},
   "source": [
    "Accessing of tuples"
   ]
  },
  {
   "cell_type": "code",
   "execution_count": 3,
   "id": "8dabce83-ea89-4958-9031-9a3e9b1da497",
   "metadata": {},
   "outputs": [
    {
     "name": "stdout",
     "output_type": "stream",
     "text": [
      "red\n",
      "('black', 'red')\n"
     ]
    }
   ],
   "source": [
    "colours=(\"blue\",\"black\",\"red\",\"yellow\")\n",
    "print(colours[2])\n",
    "print(colours[1:3])"
   ]
  },
  {
   "cell_type": "markdown",
   "id": "0e62e54b-11bb-459c-882f-d9ca322b2d48",
   "metadata": {},
   "source": [
    "Immutability"
   ]
  },
  {
   "cell_type": "code",
   "execution_count": 6,
   "id": "6fdf3776-6013-479f-99ba-d5cf20e83a07",
   "metadata": {},
   "outputs": [
    {
     "ename": "TypeError",
     "evalue": "'tuple' object does not support item assignment",
     "output_type": "error",
     "traceback": [
      "\u001b[1;31m---------------------------------------------------------------------------\u001b[0m",
      "\u001b[1;31mTypeError\u001b[0m                                 Traceback (most recent call last)",
      "Cell \u001b[1;32mIn[6], line 2\u001b[0m\n\u001b[0;32m      1\u001b[0m colours\u001b[38;5;241m=\u001b[39m(\u001b[38;5;124m\"\u001b[39m\u001b[38;5;124mblue\u001b[39m\u001b[38;5;124m\"\u001b[39m,\u001b[38;5;124m\"\u001b[39m\u001b[38;5;124mblack\u001b[39m\u001b[38;5;124m\"\u001b[39m,\u001b[38;5;124m\"\u001b[39m\u001b[38;5;124mred\u001b[39m\u001b[38;5;124m\"\u001b[39m,\u001b[38;5;124m\"\u001b[39m\u001b[38;5;124myellow\u001b[39m\u001b[38;5;124m\"\u001b[39m)\n\u001b[1;32m----> 2\u001b[0m colours [\u001b[38;5;241m2\u001b[39m]\u001b[38;5;241m=\u001b[39m\u001b[38;5;124m\"\u001b[39m\u001b[38;5;124mpink\u001b[39m\u001b[38;5;124m\"\u001b[39m\n\u001b[0;32m      3\u001b[0m \u001b[38;5;28mprint\u001b[39m(colours)\n",
      "\u001b[1;31mTypeError\u001b[0m: 'tuple' object does not support item assignment"
     ]
    }
   ],
   "source": [
    "colours=(\"blue\",\"black\",\"red\",\"yellow\")\n",
    "colours [2]=\"pink\"\n",
    "print(colours)"
   ]
  },
  {
   "cell_type": "markdown",
   "id": "20ee74f7-a168-4f8e-84da-1ea1e8e5d743",
   "metadata": {},
   "source": [
    "Tuple Operations"
   ]
  },
  {
   "cell_type": "code",
   "execution_count": 8,
   "id": "19f505b9-f13a-4762-be5e-e6dbfbea0bfd",
   "metadata": {},
   "outputs": [
    {
     "name": "stdout",
     "output_type": "stream",
     "text": [
      "('krishna', 'radha', 'rukmini', 'blue', 'black', 'yellow')\n",
      "('krishna', 'radha', 'rukmini', 'satyabama', 'krishna', 'radha', 'rukmini', 'satyabama', 'krishna', 'radha', 'rukmini', 'satyabama', 'krishna', 'radha', 'rukmini', 'satyabama')\n"
     ]
    }
   ],
   "source": [
    "#concatenation\n",
    "name=(\"krishna\",\"radha\",\"rukmini\")\n",
    "colour=(\"blue\",\"black\",\"yellow\")\n",
    "name_colour=name+colour\n",
    "print(name_colour)\n",
    "\n",
    "#repetation\n",
    "name=(\"krishna\",\"radha\",\"rukmini\",\"satyabama\")\n",
    "names=name*4\n",
    "print(names)"
   ]
  },
  {
   "cell_type": "markdown",
   "id": "1726bbc9-58ad-4957-a0db-94a8793b169c",
   "metadata": {},
   "source": [
    "Tuple Methods"
   ]
  },
  {
   "cell_type": "code",
   "execution_count": 14,
   "id": "bf045219-2660-4fcc-8af1-ece7cb3537aa",
   "metadata": {},
   "outputs": [
    {
     "name": "stdout",
     "output_type": "stream",
     "text": [
      "4\n",
      "2\n"
     ]
    }
   ],
   "source": [
    "#count\n",
    "marks=(25,35,29,47,34,18,39,47,65,19,29,39,24,29,28,34,29,46,57)\n",
    "marks2=marks.count(29)\n",
    "print(marks2)\n",
    "\n",
    "#index\n",
    "marks=(25,35,29,47,34,18,39,47,65,19,29,39,24,29,28,34,29,46,57)\n",
    "index=marks.index(29)\n",
    "print(index)"
   ]
  },
  {
   "cell_type": "code",
   "execution_count": null,
   "id": "9faf9c24-b8b9-4845-a1fa-7c4737f36680",
   "metadata": {},
   "outputs": [],
   "source": []
  }
 ],
 "metadata": {
  "kernelspec": {
   "display_name": "Python 3 (ipykernel)",
   "language": "python",
   "name": "python3"
  },
  "language_info": {
   "codemirror_mode": {
    "name": "ipython",
    "version": 3
   },
   "file_extension": ".py",
   "mimetype": "text/x-python",
   "name": "python",
   "nbconvert_exporter": "python",
   "pygments_lexer": "ipython3",
   "version": "3.12.4"
  }
 },
 "nbformat": 4,
 "nbformat_minor": 5
}
