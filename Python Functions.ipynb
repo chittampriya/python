{
 "cells": [
  {
   "cell_type": "code",
   "execution_count": 1,
   "id": "26b1ce32-31d0-42f5-88be-c8781377fdaa",
   "metadata": {},
   "outputs": [],
   "source": [
    "#syntax\n",
    "def function_name(arguments):\n",
    "    return"
   ]
  },
  {
   "cell_type": "code",
   "execution_count": 11,
   "id": "fe53b2ad-e07b-45f1-8cd2-227cd6431ebb",
   "metadata": {},
   "outputs": [
    {
     "name": "stdout",
     "output_type": "stream",
     "text": [
      "my 12\n",
      "32\n"
     ]
    },
    {
     "data": {
      "text/plain": [
       "196"
      ]
     },
     "execution_count": 11,
     "metadata": {},
     "output_type": "execute_result"
    }
   ],
   "source": [
    "#creating a function\n",
    "def name(age):\n",
    "    print(f'my {age}')\n",
    "name(12)\n",
    "\n",
    "#python function argument\n",
    "def number(a,b):\n",
    "    subtraction=a-b\n",
    "    print(subtraction)\n",
    "\n",
    "number(88,56)\n",
    "\n",
    "#return statements\n",
    "def numbers(c,d):\n",
    "    multiplication=c*d\n",
    "    return multiplication\n",
    "\n",
    "numbers(98,2)"
   ]
  },
  {
   "cell_type": "markdown",
   "id": "c56c8024-eba5-49bf-bcb7-f72f4b4cc692",
   "metadata": {},
   "source": [
    "Lambda Function"
   ]
  },
  {
   "cell_type": "code",
   "execution_count": 12,
   "id": "d8a03918-6d2c-4775-bd1b-f85e1f35d58a",
   "metadata": {},
   "outputs": [
    {
     "name": "stdout",
     "output_type": "stream",
     "text": [
      "70\n",
      "129\n",
      "1.872340425531915\n"
     ]
    }
   ],
   "source": [
    "a= lambda x,:x+23\n",
    "print(a(47))\n",
    "\n",
    "ab= lambda x,y:x+y\n",
    "print(ab(74,55))\n",
    "\n",
    "def name(y):\n",
    "    return lambda z:z/y\n",
    "\n",
    "names=name(47)\n",
    "print(names(88))"
   ]
  },
  {
   "cell_type": "code",
   "execution_count": null,
   "id": "67bc2f63-ac10-4581-890d-ce513e20bdef",
   "metadata": {},
   "outputs": [],
   "source": []
  }
 ],
 "metadata": {
  "kernelspec": {
   "display_name": "Python 3 (ipykernel)",
   "language": "python",
   "name": "python3"
  },
  "language_info": {
   "codemirror_mode": {
    "name": "ipython",
    "version": 3
   },
   "file_extension": ".py",
   "mimetype": "text/x-python",
   "name": "python",
   "nbconvert_exporter": "python",
   "pygments_lexer": "ipython3",
   "version": "3.12.4"
  }
 },
 "nbformat": 4,
 "nbformat_minor": 5
}
