{
 "cells": [
  {
   "cell_type": "code",
   "execution_count": 1,
   "id": "fa4d10d6-a75d-4d1d-8fca-8607c0b43d38",
   "metadata": {},
   "outputs": [
    {
     "name": "stdout",
     "output_type": "stream",
     "text": [
      "[50, 28, 35, 55]\n",
      "['python', 'hello', 'world']\n",
      "<class 'list'>\n",
      "<class 'list'>\n"
     ]
    }
   ],
   "source": [
    "#creation of a list\n",
    "my_list=[]\n",
    "\n",
    "#creating a list with elements\n",
    "numbers=[50,28,35,55]\n",
    "words=[\"python\",\"hello\",\"world\"]\n",
    "\n",
    "print(numbers)\n",
    "print(words)\n",
    "print(type(numbers))\n",
    "print(type(words))"
   ]
  },
  {
   "cell_type": "markdown",
   "id": "316be43e-7a7a-477c-b561-bb201d8908b7",
   "metadata": {},
   "source": [
    "Access list elements"
   ]
  },
  {
   "cell_type": "code",
   "execution_count": 2,
   "id": "80ca7cd4-9b4a-4652-8668-a02298b6ce3f",
   "metadata": {},
   "outputs": [
    {
     "name": "stdout",
     "output_type": "stream",
     "text": [
      "Chennai\n",
      "Mumbai\n"
     ]
    }
   ],
   "source": [
    "Places=[\"Hyderabad\",\"Bangalore\",\"Mumbai\",\"Chennai\",\"Kolkata\"]\n",
    "print(Places[3])\n",
    "print(Places[-3])"
   ]
  },
  {
   "cell_type": "markdown",
   "id": "c5b08da1-8f12-423f-854f-5207f6815612",
   "metadata": {},
   "source": [
    "Slicing list elements"
   ]
  },
  {
   "cell_type": "code",
   "execution_count": 7,
   "id": "de969226-d350-4932-8f8f-ee8788eaee9a",
   "metadata": {},
   "outputs": [
    {
     "name": "stdout",
     "output_type": "stream",
     "text": [
      "['d', 'e', 'f', 'g', 'h']\n",
      "['f', 'g', 'h', 'i', 'j', 'k', 'l']\n",
      "['a', 'b', 'c', 'd', 'e', 'f', 'g']\n",
      "['g', 'h', 'i', 'j']\n",
      "['a', 'b', 'c', 'd', 'e', 'f', 'g', 'h', 'i', 'j', 'k', 'l']\n"
     ]
    }
   ],
   "source": [
    "Alphabets=['a','b','c','d','e','f','g','h','i','j','k','l']\n",
    "print(Alphabets[3:8])\n",
    "print(Alphabets[5:])\n",
    "print(Alphabets[:7])\n",
    "print(Alphabets[-6:-2])\n",
    "print(Alphabets[:])"
   ]
  },
  {
   "cell_type": "markdown",
   "id": "fe203213-8e12-427f-9561-910fd9049d75",
   "metadata": {},
   "source": [
    "List operations"
   ]
  },
  {
   "cell_type": "code",
   "execution_count": 9,
   "id": "d49e1697-35e6-4af9-be52-51b358d95c6a",
   "metadata": {},
   "outputs": [
    {
     "name": "stdout",
     "output_type": "stream",
     "text": [
      "['sai', 'krishna', 'shiva', 32, 45, 67]\n",
      "['krishna', 'radha', 'rukmini', 'satyabama', 'krishna', 'radha', 'rukmini', 'satyabama', 'krishna', 'radha', 'rukmini', 'satyabama', 'krishna', 'radha', 'rukmini', 'satyabama', 'krishna', 'radha', 'rukmini', 'satyabama', 'krishna', 'radha', 'rukmini', 'satyabama', 'krishna', 'radha', 'rukmini', 'satyabama', 'krishna', 'radha', 'rukmini', 'satyabama', 'krishna', 'radha', 'rukmini', 'satyabama', 'krishna', 'radha', 'rukmini', 'satyabama', 'krishna', 'radha', 'rukmini', 'satyabama', 'krishna', 'radha', 'rukmini', 'satyabama', 'krishna', 'radha', 'rukmini', 'satyabama', 'krishna', 'radha', 'rukmini', 'satyabama', 'krishna', 'radha', 'rukmini', 'satyabama', 'krishna', 'radha', 'rukmini', 'satyabama', 'krishna', 'radha', 'rukmini', 'satyabama', 'krishna', 'radha', 'rukmini', 'satyabama', 'krishna', 'radha', 'rukmini', 'satyabama', 'krishna', 'radha', 'rukmini', 'satyabama', 'krishna', 'radha', 'rukmini', 'satyabama', 'krishna', 'radha', 'rukmini', 'satyabama']\n"
     ]
    }
   ],
   "source": [
    "#concatenation\n",
    "name=[\"sai\",\"krishna\",\"shiva\"]\n",
    "number=[32,45,67]\n",
    "print(name+number)\n",
    "\n",
    "#repetation\n",
    "name=[\"krishna\",\"radha\",\"rukmini\",\"satyabama\"]\n",
    "print(name*22)"
   ]
  },
  {
   "cell_type": "markdown",
   "id": "7c6dd7c4-0424-4dcd-b104-759066a3956c",
   "metadata": {},
   "source": [
    "Change list items"
   ]
  },
  {
   "cell_type": "code",
   "execution_count": 12,
   "id": "4c408170-61bb-418b-8844-7ce18ada9ef3",
   "metadata": {},
   "outputs": [
    {
     "name": "stdout",
     "output_type": "stream",
     "text": [
      "['blue', 'black', 'yellow', 'orange']\n"
     ]
    }
   ],
   "source": [
    "colour=[\"blue\",\"black\",\"yellow\",\"brown\"]\n",
    "colour[3]=\"orange\"\n",
    "print(colour)"
   ]
  },
  {
   "cell_type": "markdown",
   "id": "dbad279c-6fcb-48ec-b11b-03ece08b0548",
   "metadata": {},
   "source": [
    "List methods"
   ]
  },
  {
   "cell_type": "code",
   "execution_count": 11,
   "id": "8885cec0-bbac-4b71-a050-ae9e63f06162",
   "metadata": {},
   "outputs": [
    {
     "name": "stdout",
     "output_type": "stream",
     "text": [
      "['krishna', 'radha', 'rukmini', 'satyabama', 'yashoda']\n",
      "['krishna', 'radha', 'rukmini', 'satyabama', 'blue', 'black', 'yellow', 'orange']\n",
      "['yashoda', 'krishna', 'radha', 'rukmini', 'satyabama']\n",
      "['krishna', 'radha', 'rukmini', 'satyabama']\n",
      "['krishna', 'radha', 'rukmini', 'satyabama']\n",
      "0\n",
      "5\n",
      "['KRISHNA', 'Krishna', 'RADHA', 'RUKMINI', 'Radha', 'Rukmini', 'Satyabama', 'krishna', 'radha', 'rukmini', 'satyabama', 'satyabama']\n",
      "['satyabama', 'rukmini', 'radha', 'krishna']\n",
      "[]\n",
      "['krishna', 'radha', 'rukmini', 'satyabama']\n",
      "['yashoda', 'krishna', 'radha', 'rukmini']\n"
     ]
    }
   ],
   "source": [
    "#append\n",
    "name=[\"krishna\",\"radha\",\"rukmini\",\"satyabama\"]\n",
    "name.append(\"yashoda\")\n",
    "print(name)\n",
    "\n",
    "#extend\n",
    "name=[\"krishna\",\"radha\",\"rukmini\",\"satyabama\"]\n",
    "colour=[\"blue\",\"black\",\"yellow\",\"orange\"]\n",
    "name.extend(colour)\n",
    "print(name)\n",
    "\n",
    "#insert\n",
    "name=[\"krishna\",\"radha\",\"rukmini\",\"satyabama\"]\n",
    "name.insert(0,\"yashoda\")\n",
    "print(name)\n",
    "\n",
    "#remove\n",
    "name=[\"krishna\",\"radha\",\"rukmini\",\"satyabama\",\"yashoda\"]\n",
    "name.remove(\"yashoda\")\n",
    "print(name)\n",
    "\n",
    "#pop\n",
    "name=[\"krishna\",\"radha\",\"rukmini\",\"satyabama\",\"yashoda\"]\n",
    "popped_element=name.pop(4)\n",
    "print(name)\n",
    "\n",
    "#index\n",
    "name=[\"krishna\",\"radha\",\"rukmini\",\"satyabama\"]\n",
    "index=name.index(\"krishna\")\n",
    "print(index)\n",
    "\n",
    "#count\n",
    "name=[\"krishna\",\"radha\",\"rukmini\",\"satyabama\",\"krishna\",\"rukmini\",\"krishna\",\"radha\",\"satyabama\",\"krishna\",\"krishna\",\"radha\",\"rukmini\"]\n",
    "count=name.count(\"krishna\")\n",
    "print(count)\n",
    "\n",
    "#sort\n",
    "name=[\"KRISHNA\",\"Radha\",\"RUKMINI\",\"Satyabama\",\"Krishna\",\"RADHA\",\"Rukmini\",\"satyabama\",\"krishna\",\"radha\",\"rukmini\",\"satyabama\"]\n",
    "name.sort()\n",
    "print(name)\n",
    "\n",
    "#reverse\n",
    "name=[\"krishna\",\"radha\",\"rukmini\",\"satyabama\"]\n",
    "name.reverse()\n",
    "print(name)\n",
    "\n",
    "#clear\n",
    "name=[\"krishna\",\"radha\",\"rukmini\",\"satyabama\"]\n",
    "name.clear()\n",
    "print(name)\n",
    "\n",
    "#copy\n",
    "name=[\"krishna\",\"radha\",\"rukmini\",\"satyabama\"]\n",
    "name.copy()\n",
    "print(name)\n",
    "\n",
    "#remove\n",
    "name=[\"yashoda\",\"krishna\",\"radha\",\"rukmini\",\"satyabama\"]\n",
    "name.remove(\"satyabama\")\n",
    "print(name)"
   ]
  },
  {
   "cell_type": "code",
   "execution_count": null,
   "id": "59c16475-9e94-43bf-97ff-6e44954e7b9a",
   "metadata": {},
   "outputs": [],
   "source": []
  }
 ],
 "metadata": {
  "kernelspec": {
   "display_name": "Python 3 (ipykernel)",
   "language": "python",
   "name": "python3"
  },
  "language_info": {
   "codemirror_mode": {
    "name": "ipython",
    "version": 3
   },
   "file_extension": ".py",
   "mimetype": "text/x-python",
   "name": "python",
   "nbconvert_exporter": "python",
   "pygments_lexer": "ipython3",
   "version": "3.12.4"
  }
 },
 "nbformat": 4,
 "nbformat_minor": 5
}
