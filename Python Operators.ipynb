{
 "cells": [
  {
   "cell_type": "markdown",
   "id": "02b4e0fe-3884-4693-8c61-c450964d4aca",
   "metadata": {},
   "source": []
  },
  {
   "cell_type": "markdown",
   "id": "e7ded536-77a8-4760-b428-0f07972745b5",
   "metadata": {},
   "source": [
    "Arithmetic Operators"
   ]
  },
  {
   "cell_type": "code",
   "execution_count": 1,
   "id": "cc338c6d-fbca-49b7-8c30-2463951839e5",
   "metadata": {},
   "outputs": [
    {
     "name": "stdout",
     "output_type": "stream",
     "text": [
      "4\n",
      "0\n",
      "16\n",
      "1.0\n",
      "256\n",
      "0\n",
      "1\n"
     ]
    }
   ],
   "source": [
    "a=5\n",
    "b=4\n",
    "#addition\n",
    "c=a=b\n",
    "print(c)\n",
    "\n",
    "#subtraction\n",
    "d=a-b\n",
    "print(d)\n",
    "\n",
    "#multiplication\n",
    "e=a*b\n",
    "print(e)\n",
    "\n",
    "#division\n",
    "f=a/b\n",
    "print(f)\n",
    "\n",
    "#exponential\n",
    "g=a**b\n",
    "print(g)\n",
    "\n",
    "#modulus\n",
    "h=a%b\n",
    "print(h)\n",
    "\n",
    "#floot division\n",
    "i=a//b\n",
    "print(i)"
   ]
  },
  {
   "cell_type": "markdown",
   "id": "cab65726-b537-444b-b56d-b1cdd9d59baf",
   "metadata": {},
   "source": [
    "Assignment Operator"
   ]
  },
  {
   "cell_type": "code",
   "execution_count": 4,
   "id": "892fd508-3318-4ef9-b575-2c97fbe2f511",
   "metadata": {},
   "outputs": [
    {
     "name": "stdout",
     "output_type": "stream",
     "text": [
      "6\n",
      "13\n",
      "-1\n",
      "64\n",
      "5.0\n",
      "9\n",
      "20736\n"
     ]
    }
   ],
   "source": [
    "#assignment operator\n",
    "a=6\n",
    "print(a)\n",
    "\n",
    "#addition assignment\n",
    "a=5\n",
    "b=8\n",
    "a+=b\n",
    "print(a)\n",
    "\n",
    "#subtraction assignment\n",
    "a=3\n",
    "b=4\n",
    "a-=b\n",
    "print(a)\n",
    "\n",
    "#multiplication assignment\n",
    "a=8\n",
    "b=8\n",
    "a*=b\n",
    "print(a)\n",
    "\n",
    "#division assignment\n",
    "a=35\n",
    "b=7\n",
    "a/=b\n",
    "print(a)\n",
    "\n",
    "#reminder assignment\n",
    "a=65\n",
    "b=14\n",
    "a%=b\n",
    "print(a)\n",
    "\n",
    "#exponenet assignment\n",
    "a=12\n",
    "b=4\n",
    "a**=b\n",
    "print(a)"
   ]
  },
  {
   "cell_type": "markdown",
   "id": "97f9f6d2-c5a1-4fb2-8405-e467a9323090",
   "metadata": {},
   "source": [
    "Comparision Operators"
   ]
  },
  {
   "cell_type": "code",
   "execution_count": 5,
   "id": "0087aca8-8406-4d02-a41c-b4a9873378fe",
   "metadata": {},
   "outputs": [
    {
     "name": "stdout",
     "output_type": "stream",
     "text": [
      "a==b False\n",
      "a!=b True\n",
      "a>b True\n",
      "a<b False\n",
      "a>=b True\n",
      "a<=b False\n"
     ]
    }
   ],
   "source": [
    "a=87\n",
    "b=56\n",
    "\n",
    "#is equal to\n",
    "print('a==b',a==b)\n",
    "\n",
    "#is not equal to\n",
    "print('a!=b',a!=b)\n",
    "\n",
    "#greater than\n",
    "print('a>b',a>b)\n",
    "\n",
    "#less than\n",
    "print('a<b',a<b)\n",
    "\n",
    "#greater than or equal to\n",
    "print('a>=b',a>=b)\n",
    "\n",
    "#less than or equal to\n",
    "print('a<=b',a<=b)\n",
    "\n"
   ]
  },
  {
   "cell_type": "markdown",
   "id": "11ca0457-6f62-4308-97f4-44de71fa1a3e",
   "metadata": {},
   "source": [
    "Logical Operators"
   ]
  },
  {
   "cell_type": "code",
   "execution_count": 6,
   "id": "9babe6c2-2cf5-4084-85ea-8cc6688b5df6",
   "metadata": {},
   "outputs": [
    {
     "name": "stdout",
     "output_type": "stream",
     "text": [
      "False\n",
      "True\n",
      "True\n"
     ]
    }
   ],
   "source": [
    "#and operator\n",
    "print(23>87 and 45<87)\n",
    "\n",
    "#or operator\n",
    "print(45>23 or 67<87)\n",
    "\n",
    "#not operator\n",
    "print(not(34>43 and 56<43))"
   ]
  },
  {
   "cell_type": "markdown",
   "id": "840a6ce9-5a83-4230-b247-beb11cfaeb2a",
   "metadata": {},
   "source": [
    "Identity Operator"
   ]
  },
  {
   "cell_type": "code",
   "execution_count": 7,
   "id": "45133bed-7d19-433e-b65a-d046dcbaf2d9",
   "metadata": {},
   "outputs": [
    {
     "name": "stdout",
     "output_type": "stream",
     "text": [
      "True\n",
      "False\n",
      "False\n",
      "True\n"
     ]
    }
   ],
   "source": [
    "a=44\n",
    "b=44\n",
    "c='data'\n",
    "d='python'\n",
    "\n",
    "print(a is b)\n",
    "print(a is not b)\n",
    "print(c is d)\n",
    "print(c is not d)"
   ]
  },
  {
   "cell_type": "markdown",
   "id": "fef48ad3-9e17-4ba8-983f-4aa206aea395",
   "metadata": {},
   "source": [
    "Membership Operator"
   ]
  },
  {
   "cell_type": "code",
   "execution_count": 9,
   "id": "cef56f60-c99c-4720-b940-97f3a3f2e11c",
   "metadata": {},
   "outputs": [
    {
     "name": "stdout",
     "output_type": "stream",
     "text": [
      "True\n",
      "True\n",
      "True\n"
     ]
    }
   ],
   "source": [
    "a='Data Science'\n",
    "b='python'\n",
    "\n",
    "print('S' in a)\n",
    "print('p' in b)\n",
    "print('data' not in a)\n"
   ]
  },
  {
   "cell_type": "markdown",
   "id": "fdc0ebdd-9431-41b5-a880-4210975e9ec1",
   "metadata": {},
   "source": [
    "Bitwise Operators"
   ]
  },
  {
   "cell_type": "code",
   "execution_count": 12,
   "id": "8708321b-1260-4865-ba75-f338701cbe53",
   "metadata": {},
   "outputs": [
    {
     "name": "stdout",
     "output_type": "stream",
     "text": [
      "4\n",
      "58\n",
      "46\n",
      "-35\n",
      "774056185954304\n",
      "0\n"
     ]
    }
   ],
   "source": [
    "#bitwise and\n",
    "print(22&12)\n",
    "\n",
    "#bitwise or\n",
    "print(34|56)\n",
    "\n",
    "#bitwise xor\n",
    "print(32^14)\n",
    "\n",
    "#bitwise not\n",
    "print(~34)\n",
    "\n",
    "#left shift\n",
    "print(22<<45)\n",
    "\n",
    "#right shift\n",
    "print(12>>34)\n",
    "\n"
   ]
  },
  {
   "cell_type": "code",
   "execution_count": null,
   "id": "704543ae-70cf-4315-b36d-a330f06dd41e",
   "metadata": {},
   "outputs": [],
   "source": []
  }
 ],
 "metadata": {
  "kernelspec": {
   "display_name": "Python 3 (ipykernel)",
   "language": "python",
   "name": "python3"
  },
  "language_info": {
   "codemirror_mode": {
    "name": "ipython",
    "version": 3
   },
   "file_extension": ".py",
   "mimetype": "text/x-python",
   "name": "python",
   "nbconvert_exporter": "python",
   "pygments_lexer": "ipython3",
   "version": "3.12.4"
  }
 },
 "nbformat": 4,
 "nbformat_minor": 5
}
