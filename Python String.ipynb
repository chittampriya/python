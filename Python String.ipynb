{
 "cells": [
  {
   "cell_type": "code",
   "execution_count": 1,
   "id": "e2527fc2-c35e-426f-ac77-09a2faef63b1",
   "metadata": {},
   "outputs": [
    {
     "name": "stdout",
     "output_type": "stream",
     "text": [
      "<class 'str'>\n",
      "<class 'str'>\n",
      "<class 'str'>\n",
      "python\n",
      "python\n",
      "python\n"
     ]
    }
   ],
   "source": [
    "#creation of a string\n",
    "str1='python'\n",
    "str2=\"python\"\n",
    "str3=\"\"\"python\"\"\"\n",
    "print(type(str1))\n",
    "print(type(str2))\n",
    "print(type(str3))\n",
    "\n",
    "print(str1)\n",
    "print(str2)\n",
    "print(str3)"
   ]
  },
  {
   "cell_type": "markdown",
   "id": "44c0579d-0531-472b-8691-d9376a6aa9a3",
   "metadata": {},
   "source": [
    "String Operations"
   ]
  },
  {
   "cell_type": "code",
   "execution_count": 6,
   "id": "2aec5c92-d9e0-485f-bc0d-31e8a7a9cd7d",
   "metadata": {},
   "outputs": [
    {
     "name": "stdout",
     "output_type": "stream",
     "text": [
      "ram sita\n",
      "ram ram ram ram ram ram ram ram ram ram ram \n",
      "l\n",
      "e\n",
      "a loves ras\n"
     ]
    }
   ],
   "source": [
    "#concatenation\n",
    "name1=\"ram\"\n",
    "name2=\"sita\"\n",
    "name3=name1+\" \"+name2\n",
    "print(name3)\n",
    "\n",
    "#repetation\n",
    "name1=\"ram \"\n",
    "name2=name1*11\n",
    "print(name2)\n",
    "\n",
    "#index\n",
    "sentence=\"Krishna is in blue colour\"\n",
    "print(sentence[15])\n",
    "print(sentence[-8])\n",
    "\n",
    "#slicing\n",
    "sentence=\"Radha loves rase flowers\"\n",
    "name=sentence[4:15]\n",
    "print(name)"
   ]
  },
  {
   "cell_type": "markdown",
   "id": "1aaea7de-ea23-4426-9d51-6216611b575f",
   "metadata": {},
   "source": [
    "Python-Format-Strings"
   ]
  },
  {
   "cell_type": "code",
   "execution_count": 17,
   "id": "bd8ccb3f-f565-4154-8d08-756eae7601a9",
   "metadata": {},
   "outputs": [
    {
     "name": "stdout",
     "output_type": "stream",
     "text": [
      "My self priyanka. I studied BSC.\n",
      "My self {priyanka}. I studied {BSC}.\n",
      "My self {priyanka}. I studied {BSC}.\n"
     ]
    }
   ],
   "source": [
    "#old style formatting\n",
    "name=\"priyanka\"\n",
    "qualification=\"BSC\"\n",
    "formatted_string=\"My self %s. I studied %s.\"%(name,qualification)\n",
    "print(formatted_string)\n",
    "\n",
    "#format method\n",
    "name=\"priyanka\"\n",
    "qualification=\"BSC\"\n",
    "formatted_string=\"My self {%s}. I studied {%s}.\"%(name, qualification)\n",
    "print(formatted_string)\n",
    "\n",
    "#string interpolation\n",
    "name=\"priyanka\"\n",
    "qualification=\"BSC\"\n",
    "fomatted_string=\"My self (name). I studied (qualification).\"\n",
    "print(formatted_string)\n",
    "                                             "
   ]
  },
  {
   "cell_type": "markdown",
   "id": "b75acacf-6f4b-4705-a1fe-a8feed7cee29",
   "metadata": {},
   "source": [
    "String Methods"
   ]
  },
  {
   "cell_type": "code",
   "execution_count": 27,
   "id": "f2bbb02c-922f-4dd1-8003-8cbcefd7a780",
   "metadata": {},
   "outputs": [
    {
     "name": "stdout",
     "output_type": "stream",
     "text": [
      "13\n",
      "KRISHNA\n",
      "   krishna    \n",
      "krishna, radha\n",
      "['krishna', 'has', 'flute', 'in', 'his', 'hands']\n",
      "krishna has flute in his hands\n"
     ]
    }
   ],
   "source": [
    "#length\n",
    "name=\"krishna radha\"\n",
    "length=len(name)\n",
    "print(length)\n",
    "\n",
    "#lower/upper\n",
    "name=\"krishna\"\n",
    "print(name.upper())\n",
    "\n",
    "#strip\n",
    "name=\"   krishna    \"\n",
    "stripped_string=name.strip()\n",
    "print(name)\n",
    "\n",
    "#replace\n",
    "name=\"krishna, yashoda\"\n",
    "new_name=name.replace(\"yashoda\",\"radha\")\n",
    "print(new_name)\n",
    "\n",
    "#split\n",
    "name=\"krishna has flute in his hands\"\n",
    "words=name.split()\n",
    "print(words)\n",
    "\n",
    "#join\n",
    "name=['krishna', 'has', 'flute', 'in', 'his', 'hands']\n",
    "words=' '.join(name)\n",
    "print(words)"
   ]
  },
  {
   "cell_type": "code",
   "execution_count": null,
   "id": "d06ca526-93e0-4196-b9fe-1c85bf7733a6",
   "metadata": {},
   "outputs": [],
   "source": []
  }
 ],
 "metadata": {
  "kernelspec": {
   "display_name": "Python 3 (ipykernel)",
   "language": "python",
   "name": "python3"
  },
  "language_info": {
   "codemirror_mode": {
    "name": "ipython",
    "version": 3
   },
   "file_extension": ".py",
   "mimetype": "text/x-python",
   "name": "python",
   "nbconvert_exporter": "python",
   "pygments_lexer": "ipython3",
   "version": "3.12.4"
  }
 },
 "nbformat": 4,
 "nbformat_minor": 5
}
