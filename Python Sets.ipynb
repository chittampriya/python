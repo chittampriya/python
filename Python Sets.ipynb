{
 "cells": [
  {
   "cell_type": "code",
   "execution_count": 2,
   "id": "86aa52c1-03d9-4e79-8d8b-0d69f61bc7ba",
   "metadata": {},
   "outputs": [
    {
     "name": "stdout",
     "output_type": "stream",
     "text": [
      "{'raddish', 'ladys finger', 'cabbage', 'carrot', 'brinjal', 'onion'}\n",
      "<class 'set'>\n",
      "{36, 69, 742, 74, 16, 49, 593, 22, 58, 125}\n"
     ]
    }
   ],
   "source": [
    "#creating sets\n",
    "\n",
    "#empty_set= set()\n",
    "\n",
    "vegetables={'carrot','raddish','cabbage','brinjal','onion','ladys finger'}\n",
    "print(vegetables)\n",
    "print(type(vegetables))\n",
    "\n",
    "#duplicates \n",
    "numbers={22,58,36,74,69,22,49,58,16,742,593,125,69}\n",
    "print(numbers)"
   ]
  },
  {
   "cell_type": "code",
   "execution_count": 10,
   "id": "5da1a980-b0c4-461d-8e7d-e514c874fac0",
   "metadata": {},
   "outputs": [
    {
     "name": "stdout",
     "output_type": "stream",
     "text": [
      "{'chennai', 'kolkata', 'hyderabad', 'bangalore', 'pune'}\n",
      "{'chennai', 'u', 'kolkata', 'p', 'hyderabad', 'bangalore', 'n', 'e'}\n",
      "{'hyderabad', 'bangalore', 'kolkata'}\n",
      "{'hyderabad', 'bangalore', 'kolkata'}\n",
      "4\n"
     ]
    }
   ],
   "source": [
    "#adding\n",
    "places={'hyderabad','kolkata','bangalore','chennai'}\n",
    "places.add('pune')\n",
    "print(places)\n",
    "\n",
    "#update\n",
    "places={'hyderabad','kolkata','bangalore','chennai'}\n",
    "places.update('pune')\n",
    "print(places)\n",
    "\n",
    "#remove\n",
    "places={'hyderabad','kolkata','bangalore','chennai'}\n",
    "places.discard('chennai')\n",
    "print(places)\n",
    "\n",
    "places={'hyderabad','kolkata','bangalore','chennai'}\n",
    "places.remove('chennai')\n",
    "print(places)\n",
    "\n",
    "#length\n",
    "places={'hyderabad','kolkata','bangalore','chennai'}\n",
    "print(len(places))"
   ]
  },
  {
   "cell_type": "markdown",
   "id": "4f071f9a-632e-4798-a200-66d3714201b0",
   "metadata": {},
   "source": [
    "Set Operations"
   ]
  },
  {
   "cell_type": "code",
   "execution_count": 15,
   "id": "8dc591d0-f604-4531-95c4-cc72bda19e37",
   "metadata": {},
   "outputs": [
    {
     "name": "stdout",
     "output_type": "stream",
     "text": [
      "{96, 35, 4, 42, 12, 54, 59, 31}\n",
      "{96, 35, 4, 42, 12, 54, 59, 31}\n",
      "{42}\n",
      "{42}\n",
      "{59, 35, 4, 12}\n",
      "{59, 35, 4, 12}\n",
      "{96, 35, 4, 12, 54, 59, 31}\n",
      "{96, 35, 4, 12, 54, 59, 31}\n"
     ]
    }
   ],
   "source": [
    "#union\n",
    "a={4,59,12,35}\n",
    "b={54,96,42,31}\n",
    "print(a|b)\n",
    "print(a.union(b))\n",
    "\n",
    "#intersection\n",
    "a={4,59,42,12,35}\n",
    "b={54,96,42,31}\n",
    "print(a&b)\n",
    "print(a.intersection(b))\n",
    "\n",
    "#difference\n",
    "a={4,59,42,12,35}\n",
    "b={54,96,42,31}\n",
    "print(a-b)\n",
    "print(a.difference(b))\n",
    "\n",
    "#set symmetric difference\n",
    "a={4,59,42,12,35}\n",
    "b={54,96,42,31}\n",
    "print(a^b)\n",
    "print(a.symmetric_difference(b))"
   ]
  },
  {
   "cell_type": "code",
   "execution_count": null,
   "id": "bbe47f0d-2d4c-4276-b1ea-eaaf6d250bee",
   "metadata": {},
   "outputs": [],
   "source": []
  }
 ],
 "metadata": {
  "kernelspec": {
   "display_name": "Python 3 (ipykernel)",
   "language": "python",
   "name": "python3"
  },
  "language_info": {
   "codemirror_mode": {
    "name": "ipython",
    "version": 3
   },
   "file_extension": ".py",
   "mimetype": "text/x-python",
   "name": "python",
   "nbconvert_exporter": "python",
   "pygments_lexer": "ipython3",
   "version": "3.12.4"
  }
 },
 "nbformat": 4,
 "nbformat_minor": 5
}
