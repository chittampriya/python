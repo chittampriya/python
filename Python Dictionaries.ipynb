{
 "cells": [
  {
   "cell_type": "code",
   "execution_count": 2,
   "id": "636d63b8-ab34-45e4-bc19-3a46e2379d14",
   "metadata": {},
   "outputs": [
    {
     "name": "stdout",
     "output_type": "stream",
     "text": [
      "{'name': 'Priyanka', 'age': '21'}\n",
      "<class 'dict'>\n"
     ]
    }
   ],
   "source": [
    "#creating a dictionaries\n",
    "group={'name':'Priyanka','age':'21'}\n",
    "print(group)\n",
    "\n",
    "print(type(group))"
   ]
  },
  {
   "cell_type": "markdown",
   "id": "a43034c3-34a9-4dc9-b7eb-550917e42188",
   "metadata": {},
   "source": [
    "Accessing a value"
   ]
  },
  {
   "cell_type": "code",
   "execution_count": 4,
   "id": "2a768239-b5b7-435e-be07-be29391d1c03",
   "metadata": {},
   "outputs": [
    {
     "name": "stdout",
     "output_type": "stream",
     "text": [
      "bangalore\n"
     ]
    }
   ],
   "source": [
    "dict={'place':'bangalore','state':'karnataka','country':'india'}\n",
    "print(dict['place'])"
   ]
  },
  {
   "cell_type": "markdown",
   "id": "05de037d-7f87-40bb-9b97-ee03d5b77b1b",
   "metadata": {},
   "source": [
    "Modifying and Adding"
   ]
  },
  {
   "cell_type": "code",
   "execution_count": 8,
   "id": "ae147625-5add-4994-91ff-9479ada315e5",
   "metadata": {},
   "outputs": [
    {
     "name": "stdout",
     "output_type": "stream",
     "text": [
      "{'name': 'Priyanka', 'age': 20}\n",
      "{'name': 'Priyanka', 'age': 20, 'location': 'shamshabad'}\n"
     ]
    }
   ],
   "source": [
    "#modify\n",
    "group={'name':'Priyanka','age':'21'}\n",
    "group['age']=20\n",
    "print(group)\n",
    "\n",
    "#add\n",
    "group['location']='shamshabad'\n",
    "print(group)"
   ]
  },
  {
   "cell_type": "markdown",
   "id": "e5555f22-e8b0-46de-9431-85f3ffe72b80",
   "metadata": {},
   "source": [
    "Dictionary Methods"
   ]
  },
  {
   "cell_type": "code",
   "execution_count": 11,
   "id": "c05e74d3-d048-4863-9936-14dcf781b62b",
   "metadata": {},
   "outputs": [
    {
     "name": "stdout",
     "output_type": "stream",
     "text": [
      "bangalore\n",
      "not mentioned\n",
      "dict_keys(['place', 'state', 'country'])\n",
      "dict_values(['india', 'telangana', 'hyderabad'])\n",
      "dict_items([('country', 'india'), ('state', 'telangana'), ('city', 'hyderabad')])\n",
      "telangana\n",
      "('city', 'hyderabad')\n",
      "{'country': 'india', 'state': 'telangana', 'city': 'hyderabad', 'place': 'shamshabad'}\n"
     ]
    }
   ],
   "source": [
    "#get\n",
    "dict={'place':'bangalore','state':'karnataka','country':'india'}\n",
    "place=dict.get('place')\n",
    "print(place)\n",
    "location=dict.get('location','not mentioned')\n",
    "print(location)\n",
    "\n",
    "#keys\n",
    "keys=dict.keys()\n",
    "print(keys)\n",
    "\n",
    "#values\n",
    "place={'country':'india','state':'telangana','city':'hyderabad'}\n",
    "values=place.values()\n",
    "print(values)\n",
    "\n",
    "#items\n",
    "place={'country':'india','state':'telangana','city':'hyderabad'}\n",
    "items=place.items()\n",
    "print(items)\n",
    "\n",
    "#pop\n",
    "place={'country':'india','state':'telangana','city':'hyderabad'}\n",
    "new=place.pop('state')\n",
    "print(new)\n",
    "\n",
    "#popitem\n",
    "place={'country':'india','state':'telangana','city':'hyderabad'}\n",
    "new=place.popitem()\n",
    "print(new)\n",
    "\n",
    "#update\n",
    "place={'country':'india','state':'telangana','city':'hyderabad'}\n",
    "new={'place':'shamshabad'}\n",
    "place.update(new)\n",
    "print(place)\n",
    "\n"
   ]
  },
  {
   "cell_type": "code",
   "execution_count": null,
   "id": "d57f63c5-a161-49b7-958b-3b5d5dc9837b",
   "metadata": {},
   "outputs": [],
   "source": []
  }
 ],
 "metadata": {
  "kernelspec": {
   "display_name": "Python 3 (ipykernel)",
   "language": "python",
   "name": "python3"
  },
  "language_info": {
   "codemirror_mode": {
    "name": "ipython",
    "version": 3
   },
   "file_extension": ".py",
   "mimetype": "text/x-python",
   "name": "python",
   "nbconvert_exporter": "python",
   "pygments_lexer": "ipython3",
   "version": "3.12.4"
  }
 },
 "nbformat": 4,
 "nbformat_minor": 5
}
