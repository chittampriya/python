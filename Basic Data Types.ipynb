{
 "cells": [
  {
   "cell_type": "raw",
   "id": "da773d6f-b6f2-4d06-9548-fafac5eb2bf1",
   "metadata": {},
   "source": [
    "Integers"
   ]
  },
  {
   "cell_type": "code",
   "execution_count": 2,
   "id": "43effc05-385d-465c-9cde-c8144ec30492",
   "metadata": {},
   "outputs": [
    {
     "name": "stdout",
     "output_type": "stream",
     "text": [
      "34\n",
      "84\n",
      "89\n",
      "20\n",
      "60\n",
      "198\n",
      "147\n",
      "387\n",
      "98756\n",
      "649032\n"
     ]
    }
   ],
   "source": [
    "#integers\n",
    "a=34\n",
    "b=84\n",
    "c=89\n",
    "d=20\n",
    "e=60\n",
    "f=198\n",
    "g=147\n",
    "h=387\n",
    "i=98756\n",
    "j=649032\n",
    "print(a)\n",
    "print(b)\n",
    "print(c)\n",
    "print(d)\n",
    "print(e)\n",
    "print(f)\n",
    "print(g)\n",
    "print(h)\n",
    "print(i)\n",
    "print(j)\n"
   ]
  },
  {
   "cell_type": "code",
   "execution_count": 3,
   "id": "7de75f26-c183-468e-9335-d84c415a5d5e",
   "metadata": {},
   "outputs": [
    {
     "name": "stdout",
     "output_type": "stream",
     "text": [
      "25.12\n",
      "58.24\n",
      "67.21\n",
      "874.236\n",
      "596.124\n",
      "248.235\n",
      "3574.258\n",
      "354.214\n",
      "214.289\n",
      "321.241\n"
     ]
    }
   ],
   "source": [
    "#float\n",
    "a=25.12\n",
    "b=58.24\n",
    "c=67.21\n",
    "d=874.236\n",
    "e=596.124\n",
    "f=248.235\n",
    "g=3574.258\n",
    "h=354.214\n",
    "i=214.289\n",
    "j=321.241\n",
    "print(a)\n",
    "print(b)\n",
    "print(c)\n",
    "print(d)\n",
    "print(e)\n",
    "print(f)\n",
    "print(g)\n",
    "print(h)\n",
    "print(i)\n",
    "print(j)"
   ]
  },
  {
   "cell_type": "code",
   "execution_count": 4,
   "id": "56084330-388d-4223-b1df-85a26d09e794",
   "metadata": {},
   "outputs": [
    {
     "name": "stdout",
     "output_type": "stream",
     "text": [
      "(789-123j)\n",
      "(236-47j)\n",
      "(235+74j)\n",
      "(267-47j)\n",
      "(54-87j)\n",
      "(3687+48j)\n",
      "(25+25j)\n",
      "236.248j\n",
      "258.21j\n",
      "21.1j\n"
     ]
    }
   ],
   "source": [
    "#complex\n",
    "a=789-123j\n",
    "b=236-47j\n",
    "c=235+74j\n",
    "d=267-47j\n",
    "e=54-87j\n",
    "f=3687+48j\n",
    "g=25+25j\n",
    "h=236.248j\n",
    "i=258.21j\n",
    "j=21.1j\n",
    "print(a)\n",
    "print(b)\n",
    "print(c)\n",
    "print(d)\n",
    "print(e)\n",
    "print(f)\n",
    "print(g)\n",
    "print(h)\n",
    "print(i)\n",
    "print(j)\n"
   ]
  },
  {
   "cell_type": "raw",
   "id": "d86c6052-54ca-47f4-bae5-c44c715d242c",
   "metadata": {},
   "source": [
    "Type Conversions"
   ]
  },
  {
   "cell_type": "code",
   "execution_count": 5,
   "id": "2d2c53f5-556e-4f4f-acd0-58dc4cbe5da5",
   "metadata": {},
   "outputs": [
    {
     "name": "stdout",
     "output_type": "stream",
     "text": [
      "29.0\n",
      "14.0\n",
      "987.0\n",
      "670.0\n",
      "6432.0\n",
      "76543.0\n",
      "87654.0\n",
      "453.0\n",
      "543.0\n",
      "5421.0\n"
     ]
    }
   ],
   "source": [
    "#int to float\n",
    "a=29\n",
    "A=float(a)\n",
    "b=14\n",
    "B=float(b)\n",
    "c=987\n",
    "C=float(c)\n",
    "d=670\n",
    "D=float(d)\n",
    "e=6432\n",
    "E=float(e)\n",
    "f=76543\n",
    "F=float(f)\n",
    "g=87654\n",
    "G=float(g)\n",
    "h=453\n",
    "H=float(h)\n",
    "i=543\n",
    "I=float(i)\n",
    "j=5421\n",
    "J=float(j)\n",
    "print(A)\n",
    "print(B)\n",
    "print(C)\n",
    "print(D)\n",
    "print(E)\n",
    "print(F)\n",
    "print(G)\n",
    "print(H)\n",
    "print(I)\n",
    "print(J)\n"
   ]
  },
  {
   "cell_type": "code",
   "execution_count": 6,
   "id": "06080055-8e37-405d-9ccf-afe482aa677c",
   "metadata": {},
   "outputs": [
    {
     "name": "stdout",
     "output_type": "stream",
     "text": [
      "25\n",
      "514\n",
      "67\n",
      "379\n",
      "209\n",
      "741\n",
      "654\n",
      "650\n",
      "54\n",
      "59\n"
     ]
    }
   ],
   "source": [
    "#float to int\n",
    "a=25.31\n",
    "A=int(a)\n",
    "b=514.239\n",
    "B=int(b)\n",
    "c=67.854\n",
    "C=int(c)\n",
    "d=379.014\n",
    "D=int(d)\n",
    "e=209.876\n",
    "E=int(e)\n",
    "f=741.86\n",
    "F=int(f)\n",
    "g=654.987\n",
    "G=int(g)\n",
    "h=650.145\n",
    "H=int(h)\n",
    "i=54.098\n",
    "I=int(i)\n",
    "j=59.432\n",
    "J=int(j)\n",
    "print(A)\n",
    "print(B)\n",
    "print(C)\n",
    "print(D)\n",
    "print(E)\n",
    "print(F)\n",
    "print(G)\n",
    "print(H)\n",
    "print(I)\n",
    "print(J)"
   ]
  },
  {
   "cell_type": "code",
   "execution_count": 1,
   "id": "0d8cd020-7ac8-4d8e-9c65-022486bbc635",
   "metadata": {},
   "outputs": [
    {
     "name": "stdout",
     "output_type": "stream",
     "text": [
      "(14+0j)\n",
      "(34+0j)\n",
      "(56+0j)\n",
      "(20+0j)\n",
      "(67+0j)\n",
      "(5147.2544+0j)\n",
      "(678.097+0j)\n",
      "(42809.92676+0j)\n",
      "(268.964+0j)\n",
      "(538.072+0j)\n"
     ]
    }
   ],
   "source": [
    "#int to complex and float to complex\n",
    "a=14\n",
    "A=complex(a)\n",
    "b=34\n",
    "B=complex(b)\n",
    "c=56\n",
    "C=complex(c)\n",
    "d=20\n",
    "D=complex(d)\n",
    "e=67\n",
    "E=complex(e)\n",
    "f=5147.2544\n",
    "F=complex(f)\n",
    "g=678.097\n",
    "G=complex(g)\n",
    "h=42809.92676\n",
    "H=complex(h)\n",
    "i=268.964\n",
    "I=complex(i)\n",
    "j=538.072\n",
    "J=complex(j)\n",
    "print(A)\n",
    "print(B)\n",
    "print(C)\n",
    "print(D)\n",
    "print(E)\n",
    "print(F)\n",
    "print(G)\n",
    "print(H)\n",
    "print(I)\n",
    "print(J)\n"
   ]
  },
  {
   "cell_type": "code",
   "execution_count": 4,
   "id": "72901771-7a43-4333-b6df-16bcbfa38bd8",
   "metadata": {},
   "outputs": [
    {
     "name": "stdout",
     "output_type": "stream",
     "text": [
      "False\n",
      "False\n",
      "True\n",
      "False\n",
      "False\n",
      "True\n",
      "True\n",
      "True\n",
      "True\n",
      "False\n"
     ]
    }
   ],
   "source": [
    "print(10<4)\n",
    "print(2>6)\n",
    "print(2==2)\n",
    "print(56==32)\n",
    "print(30>=57)\n",
    "print(309<=432)\n",
    "print(29<123)\n",
    "print(234>222)\n",
    "print(345>=234)\n",
    "print(456<=97)"
   ]
  },
  {
   "cell_type": "code",
   "execution_count": null,
   "id": "f1a0e0c3-1c53-456f-95d4-cdfeaf32b49e",
   "metadata": {},
   "outputs": [],
   "source": []
  }
 ],
 "metadata": {
  "kernelspec": {
   "display_name": "Python 3 (ipykernel)",
   "language": "python",
   "name": "python3"
  },
  "language_info": {
   "codemirror_mode": {
    "name": "ipython",
    "version": 3
   },
   "file_extension": ".py",
   "mimetype": "text/x-python",
   "name": "python",
   "nbconvert_exporter": "python",
   "pygments_lexer": "ipython3",
   "version": "3.12.4"
  }
 },
 "nbformat": 4,
 "nbformat_minor": 5
}
